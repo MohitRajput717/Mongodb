{
 "cells": [
  {
   "cell_type": "code",
   "execution_count": 1,
   "id": "d72aee1b",
   "metadata": {},
   "outputs": [],
   "source": [
    "import pymongo\n",
    "from pymongo import MongoClient"
   ]
  },
  {
   "cell_type": "code",
   "execution_count": 2,
   "id": "8fe94fb0",
   "metadata": {},
   "outputs": [],
   "source": [
    "client = MongoClient(\"mongodb://localhost:27017/\")"
   ]
  },
  {
   "cell_type": "code",
   "execution_count": 3,
   "id": "bda1425c",
   "metadata": {},
   "outputs": [],
   "source": [
    "mydb=client['Bitti']"
   ]
  },
  {
   "cell_type": "code",
   "execution_count": 20,
   "id": "4c8af77e",
   "metadata": {},
   "outputs": [],
   "source": [
    "information=mydb.employeeinformation"
   ]
  },
  {
   "cell_type": "code",
   "execution_count": 5,
   "id": "0eef5951",
   "metadata": {},
   "outputs": [],
   "source": [
    "record={'first_name':'Bitti','last_name':'singh','Age':32}"
   ]
  },
  {
   "cell_type": "code",
   "execution_count": 6,
   "id": "81c7dbbd",
   "metadata": {},
   "outputs": [
    {
     "data": {
      "text/plain": [
       "InsertOneResult(ObjectId('67b1ca7485e97fa24e4222ca'), acknowledged=True)"
      ]
     },
     "execution_count": 6,
     "metadata": {},
     "output_type": "execute_result"
    }
   ],
   "source": [
    "#single record adding\n",
    "information.insert_one(record)"
   ]
  },
  {
   "cell_type": "code",
   "execution_count": 7,
   "id": "c3421b6b",
   "metadata": {},
   "outputs": [],
   "source": [
    "records=[{'first_name':'biiti','last_name':'roman','Age':32},{'first_name':'bitti','last_name':'ram','Age':35},{'first_name':'jahan','last_name':'121','Age':37}]"
   ]
  },
  {
   "cell_type": "code",
   "execution_count": 8,
   "id": "6c4c539d",
   "metadata": {},
   "outputs": [
    {
     "data": {
      "text/plain": [
       "InsertManyResult([ObjectId('67b1ca9285e97fa24e4222cb'), ObjectId('67b1ca9285e97fa24e4222cc'), ObjectId('67b1ca9285e97fa24e4222cd')], acknowledged=True)"
      ]
     },
     "execution_count": 8,
     "metadata": {},
     "output_type": "execute_result"
    }
   ],
   "source": [
    "#multiple recording \n",
    "information.insert_many(records)"
   ]
  },
  {
   "cell_type": "code",
   "execution_count": 15,
   "id": "28853a2d",
   "metadata": {},
   "outputs": [
    {
     "name": "stdout",
     "output_type": "stream",
     "text": [
      "{'_id': ObjectId('67b1ca7485e97fa24e4222ca'), 'first_name': 'Bitti', 'last_name': 'singh', 'Age': 32}\n",
      "{'_id': ObjectId('67b1ca9285e97fa24e4222cb'), 'first_name': 'biiti', 'last_name': 'roman', 'Age': 32}\n",
      "{'_id': ObjectId('67b1ca9285e97fa24e4222cc'), 'first_name': 'bitti', 'last_name': 'ram', 'Age': 35}\n",
      "{'_id': ObjectId('67b1ca9285e97fa24e4222cd'), 'first_name': 'jahan', 'last_name': '121', 'Age': 37}\n"
     ]
    }
   ],
   "source": [
    "for record in information.find({}):\n",
    "    print(record)"
   ]
  },
  {
   "cell_type": "code",
   "execution_count": 10,
   "id": "0f059a56",
   "metadata": {},
   "outputs": [],
   "source": []
  },
  {
   "cell_type": "code",
   "execution_count": 16,
   "id": "d9e26e6b",
   "metadata": {},
   "outputs": [
    {
     "data": {
      "text/plain": [
       "{'_id': ObjectId('67b1ca7485e97fa24e4222ca'),\n",
       " 'first_name': 'Bitti',\n",
       " 'last_name': 'singh',\n",
       " 'Age': 32}"
      ]
     },
     "execution_count": 16,
     "metadata": {},
     "output_type": "execute_result"
    }
   ],
   "source": [
    "information.find_one()"
   ]
  },
  {
   "cell_type": "code",
   "execution_count": 32,
   "id": "8aa0392d",
   "metadata": {},
   "outputs": [
    {
     "name": "stdout",
     "output_type": "stream",
     "text": [
      "{'_id': ObjectId('67b1ca7485e97fa24e4222ca'), 'first_name': 'Bitti', 'last_name': 'singh', 'Age': 32}\n",
      "{'_id': ObjectId('67b1ca9285e97fa24e4222cb'), 'first_name': 'biiti', 'last_name': 'roman', 'Age': 32}\n",
      "{'_id': ObjectId('67b1ca9285e97fa24e4222cc'), 'first_name': 'bitti', 'last_name': 'ram', 'Age': 35}\n",
      "{'_id': ObjectId('67b1ca9285e97fa24e4222cd'), 'first_name': 'jahan', 'last_name': '121', 'Age': 37}\n"
     ]
    }
   ],
   "source": [
    "for i in information.find({}):\n",
    "    print(i)"
   ]
  },
  {
   "cell_type": "code",
   "execution_count": 36,
   "id": "2849c80f",
   "metadata": {},
   "outputs": [],
   "source": [
    "# for record in information.find({'qualification':{'$in':{'Age':32}}}):\n",
    "#     print(record)"
   ]
  },
  {
   "cell_type": "code",
   "execution_count": 41,
   "id": "d72c2793",
   "metadata": {},
   "outputs": [
    {
     "name": "stdout",
     "output_type": "stream",
     "text": [
      "{'_id': ObjectId('67b1ca9285e97fa24e4222cc'), 'first_name': 'bitti', 'last_name': 'ram', 'Age': 35}\n"
     ]
    }
   ],
   "source": [
    "for record in information.find({'first_name':'bitti'}):\n",
    "    print(record)"
   ]
  }
 ],
 "metadata": {
  "kernelspec": {
   "display_name": "Python 3 (ipykernel)",
   "language": "python",
   "name": "python3"
  },
  "language_info": {
   "codemirror_mode": {
    "name": "ipython",
    "version": 3
   },
   "file_extension": ".py",
   "mimetype": "text/x-python",
   "name": "python",
   "nbconvert_exporter": "python",
   "pygments_lexer": "ipython3",
   "version": "3.10.9"
  },
  "varInspector": {
   "cols": {
    "lenName": 16,
    "lenType": 16,
    "lenVar": 40
   },
   "kernels_config": {
    "python": {
     "delete_cmd_postfix": "",
     "delete_cmd_prefix": "del ",
     "library": "var_list.py",
     "varRefreshCmd": "print(var_dic_list())"
    },
    "r": {
     "delete_cmd_postfix": ") ",
     "delete_cmd_prefix": "rm(",
     "library": "var_list.r",
     "varRefreshCmd": "cat(var_dic_list()) "
    }
   },
   "types_to_exclude": [
    "module",
    "function",
    "builtin_function_or_method",
    "instance",
    "_Feature"
   ],
   "window_display": false
  }
 },
 "nbformat": 4,
 "nbformat_minor": 5
}
